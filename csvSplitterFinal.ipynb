{
 "cells": [
  {
   "cell_type": "code",
   "execution_count": 1,
   "id": "79b7238c",
   "metadata": {},
   "outputs": [],
   "source": [
    "import os\n",
    "import pandas as pd\n",
    "import glob\n",
    "import time\n",
    "import shutil\n",
    "import fnmatch"
   ]
  },
  {
   "cell_type": "code",
   "execution_count": 2,
   "id": "bee3640c",
   "metadata": {},
   "outputs": [],
   "source": [
    "#csv file name to be read in \n",
    "in_csv = ('C:\\\\Users\\\\mwelsh\\\\OneDrive - XXXX\\\\Documents\\\\Python Scripts\\\\SplitCSV\\\\TX_BankStatement_.csv')\n",
    "number_lines = sum(1 for row in (open(in_csv)))\n",
    "\n",
    "df1 = pd.read_csv(in_csv)\n",
    "names = df1.columns    \n"
   ]
  },
  {
   "cell_type": "code",
   "execution_count": 3,
   "id": "0c478f52",
   "metadata": {},
   "outputs": [],
   "source": [
    "rowsize = 900\n",
    "\n",
    "\n",
    "for i in range(0,number_lines,rowsize):\n",
    "    \n",
    "    try: \n",
    "        df = pd.read_csv(in_csv,\n",
    "              header=None,\n",
    "              nrows = rowsize,#number of rows to read at each loop\n",
    "              skiprows = i+1)#skip rows that have been read\n",
    "\n",
    "        out_csv = 'C:\\\\Users\\\\mwelsh\\\\OneDrive - XXXX\\\\Documents\\\\Python Scripts\\SplitCSV\\\\TX_BankStatement_' + time.strftime(\"%Y-%m-%d_\") + str(int(i/rowsize)) + '.csv'\n",
    "        df.columns = names        \n",
    "    except:\n",
    "        break\n",
    "        \n",
    "    df.to_csv(out_csv, index=False)\n",
    "        \n",
    "    "
   ]
  },
  {
   "cell_type": "code",
   "execution_count": 4,
   "id": "bb7b1248",
   "metadata": {},
   "outputs": [],
   "source": [
    "source = r\"C:\\\\Users\\\\mwelsh\\\\OneDrive - XXXX\\\\Documents\\\\Python Scripts\\\\SplitCSV\\\\\"\n",
    "destination = r\"C:\\\\Users\\\\mwelsh\\\\OneDrive - XXXX\\\\Documents\\\\Python Scripts\\\\SplitCSV\\\\SplitFiles\\\\\"\n",
    "\n",
    "files = os.listdir(source)\n",
    "\n",
    "files2 = os.listdir(destination)\n",
    "os.chdir(source)\n"
   ]
  },
  {
   "cell_type": "code",
   "execution_count": 5,
   "id": "4ee9e145",
   "metadata": {},
   "outputs": [
    {
     "name": "stdout",
     "output_type": "stream",
     "text": [
     ]
    }
   ],
   "source": [
    "for file in files:\n",
    "    if os.path.isfile(file):\n",
    "        print(destination)\n",
    "        full_destination = os.path.join(destination, file)\n",
    "        print(full_destination)\n",
    "        print(\"/n\")\n",
    "        shutil.move(file, full_destination)\n",
    "        "
   ]
  },
  {
   "cell_type": "code",
   "execution_count": null,
   "id": "2c23997a",
   "metadata": {},
   "outputs": [],
   "source": []
  }
 ],
 "metadata": {
  "kernelspec": {
   "display_name": "Python 3",
   "language": "python",
   "name": "python3"
  },
  "language_info": {
   "codemirror_mode": {
    "name": "ipython",
    "version": 3
   },
   "file_extension": ".py",
   "mimetype": "text/x-python",
   "name": "python",
   "nbconvert_exporter": "python",
   "pygments_lexer": "ipython3",
   "version": "3.8.8"
  }
 },
 "nbformat": 4,
 "nbformat_minor": 5
}
